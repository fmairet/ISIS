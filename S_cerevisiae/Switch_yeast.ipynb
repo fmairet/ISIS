{
 "cells": [
  {
   "cell_type": "markdown",
   "metadata": {},
   "source": [
    "# In silico identification of switching nodes (ISIS), by F. Mairet\n",
    "## <I>Saccharomyces cerevisiae</I> under nitrogen limitation"
   ]
  },
  {
   "cell_type": "code",
   "execution_count": 1,
   "metadata": {},
   "outputs": [],
   "source": [
    "import cobra\n",
    "import numpy as np\n",
    "from pandas import DataFrame\n",
    "import pandas as pd\n",
    "model=cobra.io.read_sbml_model(\"yeastGEM.xml\")"
   ]
  },
  {
   "cell_type": "markdown",
   "metadata": {},
   "source": [
    "### Computation of fluxes with pFBA"
   ]
  },
  {
   "cell_type": "code",
   "execution_count": 2,
   "metadata": {},
   "outputs": [],
   "source": [
    "medium = model.medium\n",
    "medium[\"r_1992\"] = 10.0 #oxygen\n",
    "medium[\"r_1714\"] = 10.0 #glucose\n",
    "medium[\"r_1654\"] = 1.0 #NH4\n",
    "model.medium = medium\n",
    "pfba_NH4 = cobra.flux_analysis.pfba(model)\n",
    "\n",
    "medium = model.medium\n",
    "medium[\"r_1992\"] = 10.0 #oxygen\n",
    "medium[\"r_1714\"] = 10.0 #glucose\n",
    "medium[\"r_1654\"] = 0 #Nh4\n",
    "medium[\"r_1873\"] = 1 #alanine\n",
    "model.medium = medium\n",
    "pfba_Ala = cobra.flux_analysis.pfba(model)\n",
    "\n",
    "medium = model.medium\n",
    "medium[\"r_1992\"] = 10.0 #oxygen\n",
    "medium[\"r_1714\"] = 10.0 #glucose\n",
    "medium[\"r_1654\"] = 0 #Nh4\n",
    "medium[\"r_1873\"] = 0 #alanine\n",
    "medium[\"r_1891\"] = 1 #glutamine\n",
    "model.medium = medium\n",
    "pfba_Gln = cobra.flux_analysis.pfba(model)\n",
    "\n",
    "# Concatenation and normalization of fluxes\n",
    "VV=(np.concatenate((np.array(pfba_NH4.fluxes)[np.newaxis,:],np.array(pfba_Ala.fluxes)[np.newaxis,:],np.array(pfba_Gln.fluxes)[np.newaxis,:]),axis=0)).T\n",
    "VV=np.divide(VV,np.linalg.norm(VV,axis=0))\n",
    "\n",
    "df1=DataFrame(VV,index=model.reactions,columns=['NH4','Ala','Gln'])\n",
    "df1.to_excel('Scerevisiae_Flux.xlsx', sheet_name='sheet1', index=True)"
   ]
  },
  {
   "cell_type": "markdown",
   "metadata": {},
   "source": [
    "### Identification of switch nodes"
   ]
  },
  {
   "cell_type": "code",
   "execution_count": 3,
   "metadata": {},
   "outputs": [],
   "source": [
    "S=cobra.util.array.create_stoichiometric_matrix(model,array_type='dense') # stoichiometric matrix\n",
    "nm=S.shape[0] # number of metabolites"
   ]
  },
  {
   "cell_type": "markdown",
   "metadata": {},
   "source": [
    "#### NH4 vs Ala"
   ]
  },
  {
   "cell_type": "code",
   "execution_count": 19,
   "metadata": {},
   "outputs": [
    {
     "name": "stdout",
     "output_type": "stream",
     "text": [
      "1 D-xylulose 5-phosphate [cytoplasm] : 0.2576631370017013\n",
      "2 L-tyrosine [cytoplasm] : 0.24997082735711307\n",
      "3 L-phenylalanine [cytoplasm] : 0.24997082735711307\n",
      "4 keto-phenylpyruvate [cytoplasm] : 0.24997082735711307\n",
      "5 3-(4-hydroxyphenyl)pyruvate [cytoplasm] : 0.24997082735711296\n",
      "6 phosphatidylethanolamine (1-16:0, 2-18:1) [endoplasmic reticulum membrane] : 0.24722314346365093\n",
      "7 phosphatidyl-L-serine (1-16:0, 2-18:1) [endoplasmic reticulum membrane] : 0.24722314346364704\n",
      "8 citrate [cytoplasm] : 0.24007907068218903\n",
      "9 stearate [mitochondrial membrane] : 0.21972357959601463\n",
      "10 L-glutamate [cytoplasm] : 0.17431338476287428\n",
      "11 2-oxoglutarate [cytoplasm] : 0.17430904369805145\n",
      "12 monolysocardiolipin (2-16:1, 3-18:0, 4-16:1) [mitochondrial membrane] : 0.14809341967675504\n",
      "13 H+ [extracellular] : 0.13069269395964078\n",
      "14 D-erythrose 4-phosphate [cytoplasm] : 0.12297577895601852\n",
      "15 D-ribulose 5-phosphate [cytoplasm] : 0.10446080223853749\n",
      "16 cardiolipin (1-18:1, 2-16:1, 3-18:0, 4-16:1) [mitochondrial membrane] : 0.06765855982757829\n",
      "17 2-oxoglutarate [mitochondrion] : 0.06315899139866932\n",
      "18 glycerol 3-phosphate [lipid particle] : 0.062026660698971114\n",
      "19 pyruvate [cytoplasm] : 0.05396292167978001\n"
     ]
    }
   ],
   "source": [
    "V=VV[:,[0,1]]\n",
    "\n",
    "# loop on all the metabolites to compute their score\n",
    "r=np.zeros(nm)\n",
    "for i in range (0,nm):\n",
    "    jj=S[i,:]!=0\n",
    "    M=np.multiply(S[i,jj][np.newaxis,:].T, V[jj,:]) # compute M, removing the zero rows \n",
    "    \n",
    "    u, s, vh = np.linalg.svd(M)\n",
    "    if s[0]==0:\n",
    "        r[i]=0\n",
    "    else:\n",
    "        r[i]=1-pow(s[0],2)/sum(pow(s,2))\n",
    "        \n",
    "# Export and print the results\n",
    "df2=pd.concat([DataFrame(model.metabolites, columns=['Metabolite']), DataFrame(r, columns=['score'])], axis = 1) \n",
    "\n",
    "ind=np.argsort(r)\n",
    "for i in range (1,20):\n",
    "   print(i,model.metabolites[ind[-i]].name,':',r[ind[-i]])\n"
   ]
  },
  {
   "cell_type": "markdown",
   "metadata": {},
   "source": [
    "#### NH4 vs Gln"
   ]
  },
  {
   "cell_type": "code",
   "execution_count": 20,
   "metadata": {},
   "outputs": [
    {
     "name": "stdout",
     "output_type": "stream",
     "text": [
      "1 L-aspartate [cytoplasm] : 0.3574613910298361\n",
      "2 D-erythrose 4-phosphate [cytoplasm] : 0.3513451903539815\n",
      "3 H+ [extracellular] : 0.31595811940619767\n",
      "4 L-glutamic 5-semialdehyde [cytoplasm] : 0.24487353740465123\n",
      "5 L-isoleucine [cytoplasm] : 0.24487353740465123\n",
      "6 (S)-3-methyl-2-oxopentanoate [mitochondrion] : 0.24487353740465123\n",
      "7 7-phospho-2-dehydro-3-deoxy-D-arabino-heptonic acid [cytoplasm] : 0.24487353740465112\n",
      "8 succinate [cytoplasm] : 0.24361428433173216\n",
      "9 NADP(+) [mitochondrion] : 0.23864729470217994\n",
      "10 NADPH [mitochondrion] : 0.23864729470217994\n",
      "11 dADP [cytoplasm] : 0.22943310149637808\n",
      "12 D-xylulose 5-phosphate [cytoplasm] : 0.2121875130523726\n",
      "13 (S)-malate [cytoplasm] : 0.14096234022419873\n",
      "14 D-ribulose 5-phosphate [cytoplasm] : 0.11988478333815367\n",
      "15 L-glutamate [cytoplasm] : 0.10222893747999973\n",
      "16 2-oxoglutarate [mitochondrion] : 0.08279255202208435\n",
      "17 L-glutamine [cytoplasm] : 0.08276240587472883\n",
      "18 isocitrate [mitochondrion] : 0.07471289678410442\n",
      "19 coenzyme A [mitochondrion] : 0.06754248959335318\n"
     ]
    }
   ],
   "source": [
    "V=VV[:,[0,2]]\n",
    "\n",
    "# loop on all the metabolites to compute their score\n",
    "r=np.zeros(nm)\n",
    "for i in range (0,nm):\n",
    "    jj=S[i,:]!=0\n",
    "    M=np.multiply(S[i,jj][np.newaxis,:].T, V[jj,:]) # compute M, removing the zero rows \n",
    "    \n",
    "    u, s, vh = np.linalg.svd(M)\n",
    "    if s[0]==0:\n",
    "        r[i]=0\n",
    "    else:\n",
    "        r[i]=1-pow(s[0],2)/sum(pow(s,2))\n",
    "        \n",
    "# Export and print the results\n",
    "df3=pd.concat([DataFrame(model.metabolites, columns=['Metabolite']), DataFrame(r, columns=['score'])], axis = 1) \n",
    "\n",
    "ind=np.argsort(r)\n",
    "for i in range (1,20):\n",
    "   print(i,model.metabolites[ind[-i]].name,':',r[ind[-i]])\n",
    "\n"
   ]
  },
  {
   "cell_type": "markdown",
   "metadata": {},
   "source": [
    "#### Ala vs Gln"
   ]
  },
  {
   "cell_type": "code",
   "execution_count": 23,
   "metadata": {},
   "outputs": [
    {
     "name": "stdout",
     "output_type": "stream",
     "text": [
      "1 L-glutamate [cytoplasm] : 0.38186450809809525\n",
      "2 L-aspartate [cytoplasm] : 0.3573038197639541\n",
      "3 2-oxoglutarate [cytoplasm] : 0.34533519608066787\n",
      "4 L-tyrosine [cytoplasm] : 0.24409647674582635\n",
      "5 L-phenylalanine [cytoplasm] : 0.24409647674582635\n",
      "6 keto-phenylpyruvate [cytoplasm] : 0.24409647674582635\n",
      "7 L-glutamic 5-semialdehyde [cytoplasm] : 0.24409647674582624\n",
      "8 3-(4-hydroxyphenyl)pyruvate [cytoplasm] : 0.24409647674582624\n",
      "9 (S)-3-methyl-2-oxopentanoate [mitochondrion] : 0.24409647674582624\n",
      "10 L-isoleucine [cytoplasm] : 0.24409647674582624\n",
      "11 7-phospho-2-dehydro-3-deoxy-D-arabino-heptonic acid [cytoplasm] : 0.2440964767458258\n",
      "12 D-erythrose 4-phosphate [cytoplasm] : 0.24409647674582557\n",
      "13 succinate [cytoplasm] : 0.24284371829473184\n",
      "14 NADP(+) [mitochondrion] : 0.23738474999907655\n",
      "15 NADPH [mitochondrion] : 0.23738474999907655\n",
      "16 dADP [cytoplasm] : 0.2286276015877977\n",
      "17 phosphatidylethanolamine (1-16:0, 2-18:1) [endoplasmic reticulum membrane] : 0.2237898281348587\n",
      "18 phosphatidyl-L-serine (1-16:0, 2-18:1) [endoplasmic reticulum membrane] : 0.2237898281348587\n",
      "19 (S)-malate [cytoplasm] : 0.1430975248075126\n",
      "20 H+ [extracellular] : 0.12650514740021512\n",
      "21 ammonium [cytoplasm] : 0.08524249296840669\n",
      "22 L-glutamine [cytoplasm] : 0.08143351274372312\n",
      "23 2-oxoglutarate [mitochondrion] : 0.05988154327572248\n",
      "24 bicarbonate [cytoplasm] : 0.05607531329685256\n"
     ]
    }
   ],
   "source": [
    "V=VV[:,[1,2]]\n",
    "\n",
    "# loop on all the metabolites to compute their score\n",
    "r=np.zeros(nm)\n",
    "for i in range (0,nm):\n",
    "    jj=S[i,:]!=0\n",
    "    M=np.multiply(S[i,jj][np.newaxis,:].T, V[jj,:]) # compute M, removing the zero rows \n",
    "    \n",
    "    u, s, vh = np.linalg.svd(M)\n",
    "    if s[0]==0:\n",
    "        r[i]=0\n",
    "    else:\n",
    "        r[i]=1-pow(s[0],2)/sum(pow(s,2))\n",
    "        \n",
    "# Export and print the results\n",
    "df4=pd.concat([DataFrame(model.metabolites, columns=['Metabolite']), DataFrame(r, columns=['score'])], axis = 1) \n",
    "\n",
    "with pd.ExcelWriter(\"Scerevisiae_Metabolite.xlsx\") as writer:\n",
    "    df2.to_excel(writer, sheet_name=\"NH4_vs_Ala\", index=False)\n",
    "    df3.to_excel(writer, sheet_name=\"NH4_vs_Gln\", index=False)\n",
    "    df4.to_excel(writer, sheet_name=\"Ala_vs_Gln\", index=False)\n",
    "        \n",
    "ind=np.argsort(r)\n",
    "for i in range (1,25):\n",
    "   print(i,model.metabolites[ind[-i]].name,':',r[ind[-i]])\n"
   ]
  },
  {
   "cell_type": "code",
   "execution_count": null,
   "metadata": {},
   "outputs": [],
   "source": []
  }
 ],
 "metadata": {
  "kernelspec": {
   "display_name": "Python 3",
   "language": "python",
   "name": "python3"
  },
  "language_info": {
   "codemirror_mode": {
    "name": "ipython",
    "version": 3
   },
   "file_extension": ".py",
   "mimetype": "text/x-python",
   "name": "python",
   "nbconvert_exporter": "python",
   "pygments_lexer": "ipython3",
   "version": "3.5.2"
  }
 },
 "nbformat": 4,
 "nbformat_minor": 4
}
