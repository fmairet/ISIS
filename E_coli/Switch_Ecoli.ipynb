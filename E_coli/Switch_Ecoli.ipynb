{
 "cells": [
  {
   "cell_type": "markdown",
   "metadata": {},
   "source": [
    "# In silico identification of switching nodes (ISIS), by F. Mairet\n",
    "## <I>Escherichia coli</I> with various nutrient inputs"
   ]
  },
  {
   "cell_type": "code",
   "execution_count": 1,
   "metadata": {},
   "outputs": [],
   "source": [
    "import cobra\n",
    "model=cobra.io.read_sbml_model(\"iAF1260.xml\")\n",
    "from pandas import DataFrame\n",
    "import pandas as pd\n",
    "import numpy as np"
   ]
  },
  {
   "cell_type": "markdown",
   "metadata": {},
   "source": [
    "### Computation of fluxes with pFBA"
   ]
  },
  {
   "cell_type": "code",
   "execution_count": 2,
   "metadata": {},
   "outputs": [],
   "source": [
    "medium = model.medium\n",
    "medium[\"EX_glc__D_e\"] = 0.0\n",
    "model.medium = medium\n",
    "\n",
    "med=pd.read_excel('medium.xlsx', index_col=0) \n",
    "\n",
    "df1=DataFrame()\n",
    "\n",
    "for i in range(1,175): \n",
    "    medium = model.medium\n",
    "    if i>1:\n",
    "        medium[med.at[i-1,'med']] = 0.0\n",
    "    medium[med.at[i,'med']]=10.0\n",
    "    model.medium = medium\n",
    "\n",
    "    pfba_solution = cobra.flux_analysis.pfba(model)\n",
    "    df1=pd.concat([df1, DataFrame(pfba_solution.fluxes)], axis = 1) \n",
    "\n",
    "df1.columns=med\n",
    "df1.to_excel('Ecoli_Flux.xlsx', sheet_name='sheet1', index=False)"
   ]
  },
  {
   "cell_type": "markdown",
   "metadata": {},
   "source": [
    "### Identification of switch nodes"
   ]
  },
  {
   "cell_type": "code",
   "execution_count": 3,
   "metadata": {},
   "outputs": [
    {
     "name": "stdout",
     "output_type": "stream",
     "text": [
      "1 D-Fructose 6-phosphate : 0.5668183866700094\n",
      "2 Glyoxylate : 0.5553485873198667\n",
      "3 Phosphate : 0.5390815108877935\n",
      "4 Pyruvate : 0.527632246878452\n",
      "5 Maltose C12H22O11 : 0.5260732906462928\n",
      "6 Acetyl-CoA : 0.5156188553964388\n",
      "7 Glycine : 0.48707860205412423\n",
      "8 Maltohexaose : 0.4805664651948809\n",
      "9 Coenzyme A : 0.4740210825449287\n",
      "10 L-Proline : 0.4547990685946035\n",
      "11 Ammonium : 0.42793572830478366\n",
      "12 Glycerol 3-phosphate : 0.3989354782218474\n",
      "13 UMP C9H11N2O9P : 0.3964091801356383\n",
      "14 Nicotinamide adenine dinucleotide phosphate - reduced : 0.39427906366573073\n",
      "15 Nicotinamide adenine dinucleotide phosphate : 0.394279063469556\n",
      "16 Xanthine : 0.35670329812584944\n",
      "17 2-Deoxy-D-ribose 1-phosphate : 0.3565081528642433\n",
      "18 D-Glucose 6-phosphate : 0.353699375918764\n",
      "19 (R)-Glycerate : 0.34235710877375003\n",
      "20 L-Serine : 0.33221272795890655\n",
      "21 L-Lactaldehyde : 0.33157516871980464\n",
      "22 D-Mannose 6-phosphate : 0.3308308279532385\n",
      "23 L-Threonine : 0.3281801041391508\n",
      "24 L-Glutamate : 0.3238511790918214\n",
      "25 Alpha-D-Ribose 1-phosphate : 0.3223619039112188\n",
      "26 Succinate : 0.32017950232957204\n",
      "27 Maltopentaose : 0.31706530721510406\n",
      "28 D-Galactose : 0.31619470943372774\n",
      "29 N-Acetyl-D-glucosamine 6-phosphate : 0.31594357867344225\n"
     ]
    }
   ],
   "source": [
    "# Concatenation and normalization of fluxes\n",
    "V=df1.to_numpy()\n",
    "V=np.divide(V,np.linalg.norm(V,axis=0))\n",
    "\n",
    "S=cobra.util.array.create_stoichiometric_matrix(model,array_type='dense') # stoichiometric matrix\n",
    "\n",
    "nm=S.shape[0] # number of metabolites\n",
    "\n",
    "# loop on all the metabolites to compute their score\n",
    "r=np.zeros(nm)\n",
    "for i in range (0,nm):\n",
    "    jj=S[i,:]!=0\n",
    "    M=np.multiply(S[i,jj][np.newaxis,:].T, V[jj,:]) # compute M, removing the zero rows \n",
    "    \n",
    "    u, s, vh = np.linalg.svd(M)\n",
    "    \n",
    "    if s[0]==0:\n",
    "        r[i]=0\n",
    "    else:\n",
    "        r[i]=1-pow(s[0],2)/sum(pow(s,2))\n",
    "        \n",
    "# Export and print the results\n",
    "df2=pd.concat([DataFrame(model.metabolites, columns=['Metabolite']), DataFrame(r, columns=['score'])], axis = 1) \n",
    "df2.to_excel('Ecoli_Metabolite.xlsx', sheet_name='sheet1', index=False)\n",
    "\n",
    "ind=np.argsort(r)\n",
    "for i in range (1,30):\n",
    "    print(i,model.metabolites[ind[-i]].name,':',r[ind[-i]])"
   ]
  },
  {
   "cell_type": "markdown",
   "metadata": {},
   "source": [
    "### Check if switch nodes are ligand"
   ]
  },
  {
   "cell_type": "code",
   "execution_count": 4,
   "metadata": {},
   "outputs": [],
   "source": [
    "lig=pd.read_excel('Ligands1.xlsx') # list of ligand (from Brunk et al., 2018)\n",
    "\n",
    "ind=ind[::-1]  # indices from the highest to the lowest score\n",
    "met=[]\n",
    "r_met=[]\n",
    "lig_met=[]\n",
    "for i in ind:\n",
    "    if not(model.metabolites[i].id[:-2] in met):\n",
    "        met.append(model.metabolites[i].id[:-2] )  # add the metabolite in the list if it is not already in it\n",
    "        r_met.append(r[i])\n",
    "        if model.metabolites[i].id[:-2]  in lig.Name.tolist():   # check if it is a ligand\n",
    "            lig_met.append(1)\n",
    "        else :\n",
    "            lig_met.append(0)\n",
    "        \n",
    "df3=pd.concat([DataFrame(met, columns = ['Metabolites']), DataFrame(r_met, columns = ['r']), DataFrame(lig_met, columns = ['ligand'])], axis = 1) \n",
    "df3.to_excel('MEtaboSwitchLig.xlsx', sheet_name='sheet1', index=False)"
   ]
  },
  {
   "cell_type": "markdown",
   "metadata": {},
   "source": [
    "### Plot"
   ]
  },
  {
   "cell_type": "code",
   "execution_count": 11,
   "metadata": {},
   "outputs": [
    {
     "data": {
      "image/png": "[encoded data removed]",
      "text/plain": [
       "<Figure size 432x288 with 1 Axes>"
      ]
     },
     "metadata": {
      "needs_background": "light"
     },
     "output_type": "display_data"
    }
   ],
   "source": [
    "import matplotlib.pyplot as plt\n",
    "\n",
    "def add_value_label(x_list,y_list,z_list):\n",
    "    for i in range(1, len(x_list)+1):\n",
    "        plt.text(i-1,y_list[i-1]+1,z_list[i-1], ha=\"center\")\n",
    "        \n",
    "rmet=np.array(r_met)\n",
    "ht=np.histogram(r_met, bins=[0, 0.1, 0.2, 0.3, 1])  # histogram of the metabolites depending on their score\n",
    "h1=np.histogram(rmet[np.where(np.array(lig_met)>0)[0]], bins=[0, 0.1, 0.2, 0.3, 1]) # histogram of the metabolites which are ligands\n",
    "\n",
    "fig = plt.figure()\n",
    "ax = fig.add_axes([0,0,1,1])\n",
    "langs = ['<0.1', '0.1 - 0.2', '0.2 - 0.3', '>0.3']\n",
    "numb=['n='+str(ht[0][0]),  'n='+str(ht[0][1]),  'n='+str(ht[0][2]),  'n='+str(ht[0][3])] \n",
    "\n",
    "ax.set_ylabel('Ligand (%)',fontsize=14)\n",
    "ax.set_xlabel('Metabolite score',fontsize=14)\n",
    "ax.bar(langs,100*h1[0] / ht[0]  )\n",
    "add_value_label(langs,100*h1[0] / ht[0] ,numb  )\n",
    "\n",
    "fig.savefig('ligand2.png', bbox_inches = 'tight')\n",
    "\n",
    "    "
   ]
  }
 ],
 "metadata": {
  "kernelspec": {
   "display_name": "Python 3",
   "language": "python",
   "name": "python3"
  },
  "language_info": {
   "codemirror_mode": {
    "name": "ipython",
    "version": 3
   },
   "file_extension": ".py",
   "mimetype": "text/x-python",
   "name": "python",
   "nbconvert_exporter": "python",
   "pygments_lexer": "ipython3",
   "version": "3.5.2"
  }
 },
 "nbformat": 4,
 "nbformat_minor": 4
}
