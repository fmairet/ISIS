{
 "cells": [
  {
   "cell_type": "markdown",
   "metadata": {},
   "source": [
    "# In silico identification of switching nodes (ISIS), by F. Mairet "
   ]
  },
  {
   "cell_type": "markdown",
   "metadata": {},
   "source": [
    "## <I>Escherichia coli</I> (Core network) under aerobic vs anaerobic conditions"
   ]
  },
  {
   "cell_type": "code",
   "execution_count": 1,
   "metadata": {},
   "outputs": [],
   "source": [
    "import cobra\n",
    "import numpy as np\n",
    "from pandas import DataFrame\n",
    "import pandas as pd\n",
    "model=cobra.io.read_sbml_model(\"e_coli_core.xml\")"
   ]
  },
  {
   "cell_type": "markdown",
   "metadata": {},
   "source": [
    "### Computation of fluxes with pFBA"
   ]
  },
  {
   "cell_type": "code",
   "execution_count": 2,
   "metadata": {},
   "outputs": [
    {
     "name": "stdout",
     "output_type": "stream",
     "text": [
      "IN FLUXES        OUT FLUXES    OBJECTIVES\n",
      "---------------  ------------  ----------------------\n",
      "o2_e      21.8   h2o_e  29.2   BIOMASS_Ecol...  0.874\n",
      "glc__D_e  10     co2_e  22.8\n",
      "nh4_e      4.77  h_e    17.5\n",
      "pi_e       3.21\n"
     ]
    }
   ],
   "source": [
    "# Aerobic condition\n",
    "pfba1 = cobra.flux_analysis.pfba(model)\n",
    "model.summary()"
   ]
  },
  {
   "cell_type": "code",
   "execution_count": 3,
   "metadata": {},
   "outputs": [
    {
     "name": "stdout",
     "output_type": "stream",
     "text": [
      "IN FLUXES         OUT FLUXES     OBJECTIVES\n",
      "----------------  -------------  ----------------------\n",
      "glc__D_e  10      h_e     30.6   BIOMASS_Ecol...  0.212\n",
      "h2o_e      7.12   for_e   17.8\n",
      "nh4_e      1.15   ac_e     8.5\n",
      "pi_e       0.779  etoh_e   8.28\n",
      "co2_e      0.378\n"
     ]
    }
   ],
   "source": [
    "# Anaerobic condition\n",
    "med=model.medium\n",
    "med[\"EX_o2_e\"] = 0.0\n",
    "model.medium=med\n",
    "pfba2 = cobra.flux_analysis.pfba(model)\n",
    "model.summary()"
   ]
  },
  {
   "cell_type": "markdown",
   "metadata": {},
   "source": [
    "### Identification of switch nodes"
   ]
  },
  {
   "cell_type": "code",
   "execution_count": 4,
   "metadata": {},
   "outputs": [
    {
     "name": "stdout",
     "output_type": "stream",
     "text": [
      "nadh_c : 0.3160085009094188\n",
      "nad_c : 0.3160085009094188\n",
      "adp_c : 0.21546825897196853\n",
      "atp_c : 0.21546825897196853\n",
      "pi_c : 0.18896744287602008\n",
      "h2o_c : 0.15478220415037358\n",
      "coa_c : 0.14486085172227514\n",
      "nadph_c : 0.12289005151268739\n",
      "nadp_c : 0.12289005151268739\n",
      "pyr_c : 0.12060007143820894\n",
      "accoa_c : 0.10892263563732696\n",
      "h_c : 0.056699008211364865\n",
      "h_e : 0.05592390537053393\n",
      "g6p_c : 0.048549119700144194\n",
      "akg_c : 0.024845335219471965\n",
      "pep_c : 0.015857306181454867\n",
      "oaa_c : 0.012844202869619958\n",
      "f6p_c : 0.011925845808906654\n",
      "r5p_c : 0.010539646090508614\n",
      "e4p_c : 0.007991564014719788\n",
      "g3p_c : 0.003078298323075268\n",
      "ru5p__D_c : 0.0029538996962434894\n",
      "co2_c : 0.001747009859031201\n",
      "xu5p__D_c : 0.0009565913334195209\n",
      "3pg_c : 0.0005877438989744244\n",
      "13dpg_c : 0.0\n",
      "o2_e : 0.0\n",
      "2pg_c : 0.0\n",
      "o2_c : 0.0\n",
      "nh4_e : 0.0\n",
      "glu__L_e : 0.0\n",
      "nh4_c : 0.0\n",
      "gln__L_c : 0.0\n",
      "glx_c : 0.0\n",
      "mal__L_e : 0.0\n",
      "6pgc_c : 0.0\n",
      "mal__L_c : 0.0\n",
      "lac__D_e : 0.0\n",
      "glu__L_c : 0.0\n",
      "lac__D_c : 0.0\n",
      "icit_c : 0.0\n",
      "h2o_e : 0.0\n",
      "gln__L_e : 0.0\n",
      "q8_c : 0.0\n",
      "6pgl_c : 0.0\n",
      "pi_e : 0.0\n",
      "fum_e : 0.0\n",
      "fum_c : 0.0\n",
      "fru_e : 0.0\n",
      "for_e : 0.0\n",
      "for_c : 0.0\n",
      "fdp_c : 0.0\n",
      "etoh_e : 0.0\n",
      "etoh_c : 0.0\n",
      "dhap_c : 0.0\n",
      "co2_e : 0.0\n",
      "cit_c : 0.0\n",
      "amp_c : 0.0\n",
      "akg_e : 0.0\n",
      "actp_c : 0.0\n",
      "acon_C_c : 0.0\n",
      "succoa_c : 0.0\n",
      "succ_e : 0.0\n",
      "succ_c : 0.0\n",
      "acald_e : 0.0\n",
      "s7p_c : 0.0\n",
      "acald_c : 0.0\n",
      "ac_e : 0.0\n",
      "q8h2_c : 0.0\n",
      "pyr_e : 0.0\n",
      "ac_c : 0.0\n"
     ]
    }
   ],
   "source": [
    "# Concatenation and normalization of fluxes\n",
    "V=(np.concatenate((np.array(pfba1.fluxes)[np.newaxis,:],np.array(pfba2.fluxes)[np.newaxis,:]),axis=0)).T\n",
    "V=np.divide(V,np.linalg.norm(V,axis=0))\n",
    "\n",
    "df1=DataFrame(V,index=model.reactions,columns=['Aerobic','Anaerobic'])\n",
    "df1.to_excel('Ecoli_core_Flux.xlsx', sheet_name='sheet1', index=True)\n",
    "\n",
    "S=cobra.util.array.create_stoichiometric_matrix(model,array_type='dense') # stoichiometric matrix\n",
    "\n",
    "nm=S.shape[0] # number of metabolites\n",
    "\n",
    "# loop on all the metabolites to compute their score\n",
    "r=np.zeros(nm)\n",
    "for i in range (0,nm):\n",
    "    jj=S[i,:]!=0\n",
    "    M=np.multiply(S[i,jj][np.newaxis,:].T, V[jj,:]) # compute M, removing the zero rows \n",
    "    \n",
    "    u, s, vh = np.linalg.svd(M)\n",
    "    \n",
    "    if s[0]==0:\n",
    "        r[i]=0\n",
    "    else:\n",
    "        r[i]=1-pow(s[0],2)/sum(pow(s,2))\n",
    "        \n",
    "# Export and print the results\n",
    "df2=pd.concat([DataFrame(model.metabolites, columns=['Metabolite']), DataFrame(r, columns=['score'])], axis = 1) \n",
    "df2.to_excel('Ecoli_core_Metabolite.xlsx', sheet_name='sheet1', index=False)\n",
    "\n",
    "ind=np.argsort(r)\n",
    "for i in range (1,nm):\n",
    "    print(model.metabolites[ind[-i]],':',r[ind[-i]])"
   ]
  }
 ],
 "metadata": {
  "kernelspec": {
   "display_name": "Python 3",
   "language": "python",
   "name": "python3"
  },
  "language_info": {
   "codemirror_mode": {
    "name": "ipython",
    "version": 3
   },
   "file_extension": ".py",
   "mimetype": "text/x-python",
   "name": "python",
   "nbconvert_exporter": "python",
   "pygments_lexer": "ipython3",
   "version": "3.5.2"
  }
 },
 "nbformat": 4,
 "nbformat_minor": 4
}
